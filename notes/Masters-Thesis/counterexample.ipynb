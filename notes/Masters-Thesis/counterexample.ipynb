{
 "cells": [
  {
   "cell_type": "code",
   "execution_count": 1,
   "id": "2a5f7cb0",
   "metadata": {},
   "outputs": [],
   "source": [
    "import snappy as sp"
   ]
  },
  {
   "cell_type": "code",
   "execution_count": 2,
   "id": "69e65a93",
   "metadata": {},
   "outputs": [
    {
     "name": "stdout",
     "output_type": "stream",
     "text": [
      "9 32 0\n",
      "9 33 unknown\n",
      "10 80 unknown\n",
      "10 82 0\n",
      "10 83 0\n",
      "10 84 0\n",
      "10 85 0\n",
      "10 86 0\n",
      "10 87 0\n",
      "10 90 0\n",
      "10 91 0\n",
      "10 92 0\n",
      "10 93 0\n",
      "10 94 0\n",
      "10 95 unknown\n",
      "10 102 unknown\n",
      "10 106 0\n",
      "10 107 unknown\n",
      "10 110 0\n",
      "10 117 unknown\n",
      "10 119 unknown\n",
      "10 148 0\n",
      "10 149 0\n",
      "10 150 0\n",
      "10 151 0\n",
      "10 153 0\n"
     ]
    }
   ],
   "source": [
    "numKnots = {}\n",
    "numKnots[4] = 1\n",
    "numKnots[5] = 2\n",
    "numKnots[6] = 3\n",
    "numKnots[7] = 7\n",
    "numKnots[8] = 21\n",
    "numKnots[9] = 49\n",
    "numKnots[10] = 166\n",
    "\n",
    "for i in range(4,11):\n",
    "    for j in range(numKnots[i]):\n",
    "        try:\n",
    "            N = sp.Manifold(str(i)+\"_\"+str(j+1))\n",
    "            N.dehn_fill((0,1))\n",
    "            if N.symmetry_group().order()==1:\n",
    "                print(i,j+1,N.symmetry_group())\n",
    "        except:\n",
    "            continue"
   ]
  },
  {
   "cell_type": "code",
   "execution_count": 3,
   "id": "c6a961b0",
   "metadata": {},
   "outputs": [
    {
     "data": {
      "text/plain": [
       "1"
      ]
     },
     "execution_count": 3,
     "metadata": {},
     "output_type": "execute_result"
    }
   ],
   "source": [
    "N = sp.Manifold(\"9_32\")\n",
    "N.dehn_fill((0,1))\n",
    "N.symmetry_group().order()"
   ]
  },
  {
   "cell_type": "code",
   "execution_count": 4,
   "id": "57897dca",
   "metadata": {},
   "outputs": [],
   "source": [
    "def KB(a,b,c,d,e,f):\n",
    "    N = sp.Manifold(\"RBG2.lnk\")    \n",
    "    N.dehn_fill((0,1),0)\n",
    "    \n",
    "    N.dehn_fill(a,7)\n",
    "    \n",
    "    N.dehn_fill(b,2)\n",
    "    N.dehn_fill(c,3)\n",
    "    N.dehn_fill(d,4)\n",
    "    N.dehn_fill(e,5)\n",
    "    N.dehn_fill(f,6)\n",
    "    N.canonize()\n",
    "    return N\n",
    "\n",
    "def KG(a,b,c,d,e,f):\n",
    "    N = sp.Manifold(\"RBG2.lnk\")    \n",
    "    N.dehn_fill((0,1),1)\n",
    "    \n",
    "    N.dehn_fill(a,7)\n",
    "    \n",
    "    N.dehn_fill(b,2)\n",
    "    N.dehn_fill(c,3)\n",
    "    N.dehn_fill(d,4)\n",
    "    N.dehn_fill(e,5)\n",
    "    N.dehn_fill(f,6)\n",
    "    N.canonize()\n",
    "    return N"
   ]
  },
  {
   "cell_type": "code",
   "execution_count": 5,
   "id": "fbb85c8e",
   "metadata": {},
   "outputs": [
    {
     "name": "stdout",
     "output_type": "stream",
     "text": [
      "23.1904675220043\n",
      "23.5092293833843\n"
     ]
    }
   ],
   "source": [
    "print(KB((-2, 1), (1, -1), (1, -2), (1, -1), (1, -2), (1, -1)).volume())\n",
    "print(KG((-2, 1), (1, -1), (1, -2), (1, -1), (1, -2), (1, -1)).volume())"
   ]
  },
  {
   "cell_type": "code",
   "execution_count": 6,
   "id": "13256bb5",
   "metadata": {},
   "outputs": [
    {
     "name": "stdout",
     "output_type": "stream",
     "text": [
      "r=-1 23.1904675220043 23.5092293833843 0\n",
      "r=-1 16.5921343459121 16.6070845723327 0\n",
      "r=-1 19.8119869956262 19.4437171517078 0\n",
      "r=-1 21.2283463332189 21.6497379065008 0\n",
      "r=-1 12.8394885084843 12.1247763628663 0\n",
      "r=-1 18.9130488262574 19.3331764109329 0\n",
      "r=-1 19.8779146973867 20.4542733043012 0\n",
      "r=-1 10.5647937573964 12.0301467177878 Z/2 + Z/2\n",
      "r=-1 20.6445599888106 21.1898925663718 0\n",
      "r=-1 21.5905921272424 21.9980765224816 unknown\n",
      "r=-1 15.2356465627739 16.0817128791592 0\n",
      "r=-1 22.3221636010018 22.6650818709254 0\n",
      "r=-1 23.3177869909470 23.6554236557199 0\n",
      "r=-1 17.3220178854590 17.8217420221946 0\n",
      "r=-1 23.2288235307815 23.4742173405228 unknown\n",
      "r=-1 19.1672830274059 19.8942968552404 unknown\n",
      "r=-1 13.5257491095445 13.5257491095445 Z/2\n",
      "r=-1 15.4946257733406 15.8460238110327 at least Z/2\n",
      "r=-1 15.5397848304917 16.9048841133914 0\n",
      "r=-1 9.69573020296297 9.69573020296114 at least Z/2\n",
      "r=-1 17.5317028374205 18.1733010309336 0\n",
      "r=-1 19.2907974108628 19.6136405003679 unknown\n",
      "r=-1 15.3998512729721 15.3998512729721 Z/2\n",
      "r=-1 19.7787981501562 20.1330456961110 unknown\n",
      "r=-1 21.4963568515697 21.8225347605224 0\n",
      "r=-1 17.4483961352853 17.4483961352853 Z/2\n",
      "r=-1 20.8293520669087 21.1101802829657 0\n",
      "r=-1 22.5088988369910 22.8921219087554 unknown\n",
      "r=-1 18.2424487635666 18.2424487635666 at least Z/2\n",
      "r=-1 21.3418413844174 21.5976763823654 unknown\n",
      "r=-1 24.9817497341499 25.1125155668194 unknown\n",
      "r=-1 18.9727086969449 18.4171416035836 0\n",
      "r=-1 22.8122317563471 22.3464651466115 unknown\n",
      "r=-1 24.3821267752533 24.2623215291488 unknown\n",
      "r=-1 17.9281895877074 16.7406726640561 0\n",
      "r=-1 23.2889205285800 23.0375362411324 unknown\n",
      "r=-1 25.1373470766022 24.8877540561682 0\n",
      "r=-1 19.4049677382183 18.8842980606300 0\n",
      "r=-1 24.3882857258169 24.2140665653581 unknown\n",
      "r=-1 26.3292937963480 26.1730701419861 unknown\n",
      "r=-1 20.9694035507039 20.5890513866950 unknown\n",
      "r=-1 25.2305754264428 25.0640992327572 0\n",
      "r=-1 27.1527353828817 27.0661053752201 unknown\n",
      "r=-1 21.8347736126103 21.4631993818539 0\n",
      "r=-1 25.7690964068059 25.5982922903437 0\n",
      "r=-1 22.3706389561586 22.6723673537050 0\n",
      "r=-1 15.7325887730255 15.6450960931806 unknown\n",
      "r=-1 18.5686393832877 18.0888851490792 0\n",
      "r=-1 20.1717829005074 20.5667341103052 0\n",
      "r=-1 11.6369334689819 10.7546342330379 Z/2\n",
      "r=-1 17.8561323104630 18.1717605104341 unknown\n",
      "r=-1 19.0405912563015 19.6427892586222 0\n",
      "r=-1 10.2010406826965 11.4265341746556 Z/2 + Z/2\n",
      "r=-1 19.4909902375989 19.8924413773063 0\n",
      "r=-1 20.9963697674408 21.4233603865661 0\n",
      "r=-1 14.6944849895492 15.3909731804218 0\n",
      "r=-1 21.0107492585048 21.2161437553149 unknown\n",
      "r=-1 22.7045772223812 23.0546606500565 unknown\n",
      "r=-1 16.6609459670201 17.0390835216036 0\n",
      "r=-1 21.8371381674634 21.9451263720250 0\n",
      "r=-1 17.3351388533947 18.1103971128941 0\n",
      "r=-1 11.4465996648982 11.4465996648982 Z/2\n",
      "r=-1 14.0459479621074 14.2233727854493 Z/2\n",
      "r=-1 13.1137223713049 15.0224586946242 Z/2\n",
      "r=-1 8.70868898368770 8.70868898368741 at least Z/2 + Z/2\n",
      "r=-1 14.7832662792555 15.4683788872089 Z/2\n",
      "r=-1 18.0409912907721 18.5181789725778 unknown\n",
      "r=-1 13.9243799214702 13.9243799214702 Z/2\n",
      "r=-1 16.6301125202997 17.0031051744789 Z/2\n",
      "r=-1 20.1810157898318 20.6501414129948 unknown\n",
      "r=-1 15.7641783149144 15.7641783149144 Z/2\n",
      "r=-1 17.6332077307154 17.8909085460310 Z/2\n",
      "r=-1 21.1160898385996 21.6362243532920 unknown\n",
      "r=-1 16.5002283955898 16.5002283955898 Z/2\n",
      "r=-1 18.1854366916275 18.3905371554672 Z/2 + Z/2\n",
      "r=-1 24.0006292565516 24.1475661021615 0\n",
      "r=-1 18.0438916778835 17.4776931304275 0\n",
      "r=-1 21.4686158336790 20.8579451417432 unknown\n",
      "r=-1 23.1977383261316 23.1351400377619 0\n"
     ]
    },
    {
     "ename": "SnapPeaFatalError",
     "evalue": "SnapPea crashed in function b'attempt_two_to_three'(), defined in b'canonize_part_1.c'.c.",
     "output_type": "error",
     "traceback": [
      "\u001b[0;31m---------------------------------------------------------------------------\u001b[0m",
      "\u001b[0;31mSnapPeaFatalError\u001b[0m                         Traceback (most recent call last)",
      "\u001b[0;32m/tmp/ipykernel_2853989/944685733.py\u001b[0m in \u001b[0;36m<module>\u001b[0;34m\u001b[0m\n\u001b[1;32m     15\u001b[0m                         \u001b[0;32mexcept\u001b[0m\u001b[0;34m:\u001b[0m\u001b[0;34m\u001b[0m\u001b[0;34m\u001b[0m\u001b[0m\n\u001b[1;32m     16\u001b[0m                             \u001b[0mtmp\u001b[0m \u001b[0;34m=\u001b[0m \u001b[0;34m\"fail\"\u001b[0m\u001b[0;34m\u001b[0m\u001b[0;34m\u001b[0m\u001b[0m\n\u001b[0;32m---> 17\u001b[0;31m                         \u001b[0mprint\u001b[0m\u001b[0;34m(\u001b[0m\u001b[0;34m\"r=\"\u001b[0m\u001b[0;34m+\u001b[0m\u001b[0mstr\u001b[0m\u001b[0;34m(\u001b[0m\u001b[0ma\u001b[0m\u001b[0;34m[\u001b[0m\u001b[0;36m0\u001b[0m\u001b[0;34m]\u001b[0m\u001b[0;34m-\u001b[0m\u001b[0mb\u001b[0m\u001b[0;34m[\u001b[0m\u001b[0;36m1\u001b[0m\u001b[0;34m]\u001b[0m\u001b[0;34m)\u001b[0m\u001b[0;34m,\u001b[0m \u001b[0mKB\u001b[0m\u001b[0;34m(\u001b[0m\u001b[0ma\u001b[0m\u001b[0;34m,\u001b[0m\u001b[0mb\u001b[0m\u001b[0;34m,\u001b[0m\u001b[0mc\u001b[0m\u001b[0;34m,\u001b[0m\u001b[0md\u001b[0m\u001b[0;34m,\u001b[0m\u001b[0me\u001b[0m\u001b[0;34m,\u001b[0m\u001b[0mf\u001b[0m\u001b[0;34m)\u001b[0m\u001b[0;34m.\u001b[0m\u001b[0mvolume\u001b[0m\u001b[0;34m(\u001b[0m\u001b[0;34m)\u001b[0m\u001b[0;34m,\u001b[0m \u001b[0mKG\u001b[0m\u001b[0;34m(\u001b[0m\u001b[0ma\u001b[0m\u001b[0;34m,\u001b[0m\u001b[0mb\u001b[0m\u001b[0;34m,\u001b[0m\u001b[0mc\u001b[0m\u001b[0;34m,\u001b[0m\u001b[0md\u001b[0m\u001b[0;34m,\u001b[0m\u001b[0me\u001b[0m\u001b[0;34m,\u001b[0m\u001b[0mf\u001b[0m\u001b[0;34m)\u001b[0m\u001b[0;34m.\u001b[0m\u001b[0mvolume\u001b[0m\u001b[0;34m(\u001b[0m\u001b[0;34m)\u001b[0m\u001b[0;34m,\u001b[0m \u001b[0mtmp\u001b[0m\u001b[0;34m)\u001b[0m\u001b[0;34m\u001b[0m\u001b[0;34m\u001b[0m\u001b[0m\n\u001b[0m",
      "\u001b[0;32m/tmp/ipykernel_2853989/153509962.py\u001b[0m in \u001b[0;36mKB\u001b[0;34m(a, b, c, d, e, f)\u001b[0m\n\u001b[1;32m     10\u001b[0m     \u001b[0mN\u001b[0m\u001b[0;34m.\u001b[0m\u001b[0mdehn_fill\u001b[0m\u001b[0;34m(\u001b[0m\u001b[0me\u001b[0m\u001b[0;34m,\u001b[0m\u001b[0;36m5\u001b[0m\u001b[0;34m)\u001b[0m\u001b[0;34m\u001b[0m\u001b[0;34m\u001b[0m\u001b[0m\n\u001b[1;32m     11\u001b[0m     \u001b[0mN\u001b[0m\u001b[0;34m.\u001b[0m\u001b[0mdehn_fill\u001b[0m\u001b[0;34m(\u001b[0m\u001b[0mf\u001b[0m\u001b[0;34m,\u001b[0m\u001b[0;36m6\u001b[0m\u001b[0;34m)\u001b[0m\u001b[0;34m\u001b[0m\u001b[0;34m\u001b[0m\u001b[0m\n\u001b[0;32m---> 12\u001b[0;31m     \u001b[0mN\u001b[0m\u001b[0;34m.\u001b[0m\u001b[0mcanonize\u001b[0m\u001b[0;34m(\u001b[0m\u001b[0;34m)\u001b[0m\u001b[0;34m\u001b[0m\u001b[0;34m\u001b[0m\u001b[0m\n\u001b[0m\u001b[1;32m     13\u001b[0m     \u001b[0;32mreturn\u001b[0m \u001b[0mN\u001b[0m\u001b[0;34m\u001b[0m\u001b[0;34m\u001b[0m\u001b[0m\n\u001b[1;32m     14\u001b[0m \u001b[0;34m\u001b[0m\u001b[0m\n",
      "\u001b[0;32mcython/core/manifold.pyx\u001b[0m in \u001b[0;36mSnapPy.Manifold.canonize\u001b[0;34m()\u001b[0m\n",
      "\u001b[0;32mcython/core/basic.pyx\u001b[0m in \u001b[0;36mSnapPy.uFatalError\u001b[0;34m()\u001b[0m\n",
      "\u001b[0;31mSnapPeaFatalError\u001b[0m: SnapPea crashed in function b'attempt_two_to_three'(), defined in b'canonize_part_1.c'.c."
     ]
    }
   ],
   "source": [
    "L=[(1,-2),(1,-1),(1,0),(1,1),(1,2)]\n",
    "S=[(-2,1),(-1,1),(0,1),(1,1),(2,1)]\n",
    "T=[(1,-1),(1,0),(1,1)]\n",
    "for a in S:\n",
    "    for b in T:\n",
    "        for c in L:\n",
    "            for d in T:\n",
    "                for e in L:\n",
    "                    for f in T:\n",
    "                        surgery = KB(a,b,c,d,e,f)\n",
    "                        surgery.dehn_fill((0,1),1)\n",
    "                        tmp = 0\n",
    "                        try:\n",
    "                            tmp = surgery.symmetry_group()\n",
    "                        except:\n",
    "                            tmp = \"fail\"\n",
    "                        print(\"r=\"+str(a[0]-b[1]), KB(a,b,c,d,e,f).volume(), KG(a,b,c,d,e,f).volume(), tmp)"
   ]
  },
  {
   "cell_type": "code",
   "execution_count": null,
   "id": "d3c1e083",
   "metadata": {},
   "outputs": [],
   "source": []
  }
 ],
 "metadata": {
  "kernelspec": {
   "display_name": "Python 3 (ipykernel)",
   "language": "python",
   "name": "python3"
  },
  "language_info": {
   "codemirror_mode": {
    "name": "ipython",
    "version": 3
   },
   "file_extension": ".py",
   "mimetype": "text/x-python",
   "name": "python",
   "nbconvert_exporter": "python",
   "pygments_lexer": "ipython3",
   "version": "3.10.6"
  }
 },
 "nbformat": 4,
 "nbformat_minor": 5
}
